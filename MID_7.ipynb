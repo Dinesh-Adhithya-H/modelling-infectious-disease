{
 "cells": [
  {
   "cell_type": "markdown",
   "metadata": {},
   "source": [
    "# Curve fitting"
   ]
  },
  {
   "cell_type": "markdown",
   "metadata": {},
   "source": [
    "## Finding gamma and lamda"
   ]
  },
  {
   "cell_type": "code",
   "execution_count": 4,
   "metadata": {},
   "outputs": [],
   "source": [
    "import matplotlib.pyplot as plt\n",
    "import scipy.integrate\n",
    "import numpy as np\n",
    "import math\n",
    "from scipy.integrate import odeint"
   ]
  },
  {
   "cell_type": "code",
   "execution_count": 5,
   "metadata": {},
   "outputs": [],
   "source": [
    "#% matplotlib inline\n",
    "\n",
    "# DATA ------------------------------------------------------------------------\n",
    "x_samp = np.array([1,2,3,4,5,6,7,8,9,10,11,12,13,14])\n",
    "y_samp = np.array([3,8,26,76,225,298,258,233,189,128,68,29,14,4]) "
   ]
  },
  {
   "cell_type": "code",
   "execution_count": 2,
   "metadata": {},
   "outputs": [],
   "source": [
    "def func(x, betta, nu):\n",
    "    pop=762\n",
    "    def du_dt(u,t):\n",
    "        lamda=betta*u[1]/pop\n",
    "        return([-u[0]*(lamda),u[0]*lamda - nu*u[1],u[1]*nu])\n",
    "    x=np.linspace(1,14,14)\n",
    "    y0=[pop-1,1,0]\n",
    "    y=odeint(du_dt,y0,x)\n",
    "    return y[:,1]"
   ]
  },
  {
   "cell_type": "code",
   "execution_count": 6,
   "metadata": {},
   "outputs": [
    {
     "name": "stdout",
     "output_type": "stream",
     "text": [
      "Estimated Parameters [1.96814953 0.47124392]\n"
     ]
    },
    {
     "data": {
      "image/png": "[encoded data removed]",
      "text/plain": [
       "<Figure size 432x288 with 1 Axes>"
      ]
     },
     "metadata": {
      "needs_background": "light"
     },
     "output_type": "display_data"
    }
   ],
   "source": [
    "x_lin=np.linspace(1,14,14)\n",
    "p0 = [1.15,0.02]                                        # guessed params\n",
    "w,_ = opt.curve_fit(func, x_samp, y_samp, p0=p0)     \n",
    "print(\"Estimated Parameters\", w)  \n",
    "y_model = func(x_lin, *w)\n",
    "plt.plot(x_samp, y_samp, \"ko\", label=\"Data\")\n",
    "plt.plot(x_lin, y_model, \"k--\", label=\"Fit\")\n",
    "plt.title(\"Least squares regression\")\n",
    "plt.legend(loc=\"upper left\")\n",
    "plt.show()"
   ]
  },
  {
   "cell_type": "code",
   "execution_count": 7,
   "metadata": {},
   "outputs": [],
   "source": [
    "def sqr_err(x,y):\n",
    "    error=0\n",
    "    for i in range(len(x)):\n",
    "        error+=(x[i]-y[i])**2\n",
    "    return(error)"
   ]
  },
  {
   "cell_type": "code",
   "execution_count": 8,
   "metadata": {},
   "outputs": [
    {
     "data": {
      "text/plain": [
       "4551.153266075826"
      ]
     },
     "execution_count": 8,
     "metadata": {},
     "output_type": "execute_result"
    }
   ],
   "source": [
    "sqr_err(y_samp,y_model)"
   ]
  },
  {
   "cell_type": "code",
   "execution_count": 9,
   "metadata": {},
   "outputs": [],
   "source": [
    "def f(x):\n",
    "    y=[]\n",
    "    for i in x:\n",
    "        y.append(scipy.special.factorial(i))\n",
    "    return(np.array(y))\n",
    "def liklihood(y1,y2):\n",
    "    return(np.sum(np.dot(y1,np.log(y1))-y1-np.dot(np.log(y2),y2)-y2))"
   ]
  },
  {
   "cell_type": "code",
   "execution_count": 10,
   "metadata": {},
   "outputs": [
    {
     "data": {
      "text/plain": [
       "-3806.4044281012802"
      ]
     },
     "execution_count": 10,
     "metadata": {},
     "output_type": "execute_result"
    }
   ],
   "source": [
    "liklihood(y_model,y_samp)"
   ]
  },
  {
   "cell_type": "code",
   "execution_count": null,
   "metadata": {},
   "outputs": [],
   "source": []
  }
 ],
 "metadata": {
  "kernelspec": {
   "display_name": "Python 3",
   "language": "python",
   "name": "python3"
  },
  "language_info": {
   "codemirror_mode": {
    "name": "ipython",
    "version": 3
   },
   "file_extension": ".py",
   "mimetype": "text/x-python",
   "name": "python",
   "nbconvert_exporter": "python",
   "pygments_lexer": "ipython3",
   "version": "3.7.6"
  }
 },
 "nbformat": 4,
 "nbformat_minor": 4
}
